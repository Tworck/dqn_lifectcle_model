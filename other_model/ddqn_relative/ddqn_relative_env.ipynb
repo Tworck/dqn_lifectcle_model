{
 "cells": [
  {
   "cell_type": "code",
   "execution_count": 1,
   "source": [
    "import math, random\r\n",
    "import gym\r\n",
    "from gym import spaces, logger\r\n",
    "from gym.utils import seeding\r\n",
    "import numpy as np\r\n",
    "\r\n",
    "import matplotlib.pyplot as plt\r\n",
    "import torch\r\n",
    "import torch.optim as optim\r\n",
    "import torch.autograd as autograd \r\n",
    "import torch.nn.functional as F\r\n",
    "\r\n",
    "\r\n",
    "import seaborn as sns\r\n",
    "\r\n",
    "\r\n",
    "import sys\r\n",
    "if \"../../\" not in sys.path:\r\n",
    "  sys.path.append(\"../../\") \r\n",
    "\r\n",
    "\r\n",
    "\r\n",
    "import collections\r\n",
    "import torch.nn as nn\r\n",
    "\r\n",
    "from  collections  import deque\r\n",
    "%matplotlib inline\r\n",
    "\r\n",
    "from IPython.display import clear_output\r\n",
    "\r\n",
    "USE_CUDA = torch.cuda.is_available()\r\n",
    "Variable = lambda *args, **kwargs: autograd.Variable(*args, **kwargs).cuda() if USE_CUDA else autograd.Variable(*args, **kwargs)\r\n"
   ],
   "outputs": [],
   "metadata": {
    "collapsed": true
   }
  },
  {
   "cell_type": "code",
   "execution_count": 2,
   "source": [
    "# %%\r\n",
    "# Import numpy modules\r\n",
    "from hashlib import new\r\n",
    "import numpy as np\r\n",
    "from numpy.random import RandomState\r\n",
    "from numpy import ndarray, newaxis\r\n",
    "from gym import spaces\r\n",
    "\r\n",
    "# Import logging module\r\n",
    "import logging\r\n",
    "import logging.config\r\n",
    "\r\n",
    "import pyqtgraph as pg\r\n",
    "from pyqtgraph.Qt import QtCore, QtGui\r\n",
    "import multiprocessing\r\n",
    "import time  # needed to wait for window to open\r\n",
    "\r\n",
    "# Setup logger\r\n",
    "logger = logging.getLogger(__name__)\r\n",
    "\r\n",
    "\r\n",
    "class MertonEnvironment:\r\n",
    "    def __init__(\r\n",
    "        self,\r\n",
    "        wealth_0: float,\r\n",
    "        rf: float,\r\n",
    "        mu: float,\r\n",
    "        sigma: float,\r\n",
    "        kappa: float,\r\n",
    "        stock_price: float = 1.0,\r\n",
    "        bond_price: float = 1.0,\r\n",
    "        n_paths: int = 1,\r\n",
    "        T: int = 1,\r\n",
    "        n_discr: int = 1,\r\n",
    "        seed: int = None,\r\n",
    "        render=False,\r\n",
    "    ):\r\n",
    "        # If a seed is specified, the algorithm should take this seed\r\n",
    "        # for reproducibility purposes. Else do not use a specific seed\r\n",
    "        if seed != None:\r\n",
    "            self.rng = np.random.RandomState(seed)\r\n",
    "            logger.info(f\"Stochastic processes initialized with seed {seed}\")\r\n",
    "        else:\r\n",
    "            # This generates a random Random seed each time instead of\r\n",
    "            # a fixed seed like in the if case\r\n",
    "            self.rng = np.random.RandomState()\r\n",
    "            logger.warning(\"No random seed was used.\")\r\n",
    "\r\n",
    "        # The dimensions are necessary to provide the replay buffer with\r\n",
    "        # dimensions. We call it observation and action space because\r\n",
    "        # this is how it is done in the gym environment from open ai\r\n",
    "        # We want to keep the nomenclature so that we are able to call\r\n",
    "        # other environments accordingly. See documentation of gym\r\n",
    "        # environment\r\n",
    "        # self.observation_space = self.ObservationSpace()\r\n",
    "        # self.action_space = self.ActionSpace(self.rng, n_paths)\r\n",
    "        utes = 15\r\n",
    "        u_star = np.linspace(0, 5, utes)\r\n",
    "        self.inv_range = u_star\r\n",
    "        self.action_space = spaces.Discrete(len(self.inv_range))\r\n",
    "        self.observation_space = spaces.Box(0, 120, np.array([2]))\r\n",
    "        # print(\"lol\")\r\n",
    "        # print(self.action_space.n)\r\n",
    "        # Number of trajectories to be simulated. In the easiest case\r\n",
    "        # this includes the number of stock trajectories\r\n",
    "        self.n_paths = n_paths\r\n",
    "        # Number of discretization steps to calculate between starting\r\n",
    "        # period (currently T=0) and final period (i.e. T = 100)\r\n",
    "        self.n_discr = n_discr\r\n",
    "        # Starting wealth of investment\r\n",
    "        #! hard coded the wealth, this is bäh\r\n",
    "        self.wealth_0 = wealth_0\r\n",
    "        self.wealth = self.wealth_0 * np.ones((self.n_paths, 1))\r\n",
    "        # Risk free retrun\r\n",
    "        self.rf = rf\r\n",
    "        # Drift term for calculating stock returns\r\n",
    "        self.mu = mu\r\n",
    "        # Volatility of the stocks\r\n",
    "        self.sigma = sigma\r\n",
    "        # Risk aversion parameter for mean variance utility approach\r\n",
    "        self.kappa = kappa\r\n",
    "        # Stock and Bond prices\r\n",
    "        # todo this is the simplest form with only 2 base prices\r\n",
    "        self.stock_price = stock_price\r\n",
    "        self.bond_price = bond_price\r\n",
    "        # Time horizon of investment. Can mean 10 years, can mean 100\r\n",
    "        # days. depends on interpretation and rest of the model\r\n",
    "        self.T = T\r\n",
    "        self.dt = T / n_discr\r\n",
    "\r\n",
    "        # Starting period\r\n",
    "        self.t = 0\r\n",
    "        # Starting episode. One episode is completed when the agend\r\n",
    "        # played once through the lifecycle\r\n",
    "        # Number of states corresponds to number of episodes\r\n",
    "        self.episode = 0\r\n",
    "\r\n",
    "        # Calculate returns of bonds and stocks\r\n",
    "        # self.s, self.b = self.stocks_bonds_growth()\r\n",
    "\r\n",
    "        # Reward range where the 0th entry is the lowest possible reward\r\n",
    "        # and the 1st entry is the biggest possible rewards\r\n",
    "        self.reward_range = (0, np.inf)\r\n",
    "\r\n",
    "    def step(self, actions: ndarray):\r\n",
    "\r\n",
    "        # print(actions)\r\n",
    "        weight = self.inv_range[actions]\r\n",
    "        # print(weight)\r\n",
    "\r\n",
    "        # weight = actions.squeeze()\r\n",
    "\r\n",
    "        if self.t < self.n_discr:\r\n",
    "\r\n",
    "            # s_portfolio_return = weight * self.s[:, self.t, np.newaxis]\r\n",
    "            s_portfolio_return = np.multiply(weight, self.s[:, self.t] - 1)\r\n",
    "            # b_portfolio_return = (1-weight) * self.b[:, self.t, np.newaxis]\r\n",
    "            b_portfolio_return = np.multiply(\r\n",
    "                (1 - weight), self.b[:, self.t] - 1)\r\n",
    "\r\n",
    "            self.portfolio_growth = s_portfolio_return + b_portfolio_return + 1\r\n",
    "            # new_wealth is an absolute value\r\n",
    "            self.new_wealth = self.wealth * self.portfolio_growth\r\n",
    "\r\n",
    "            # * Log reward is bäh, better use Mean Variance approach. See\r\n",
    "            # Kaiser paper\r\n",
    "            # rewards = np.log(self.wealth).flatten()\r\n",
    "            rewards = self.reward()\r\n",
    "            # states array needs to have shape (n_paths, states)\r\n",
    "            # i.e. (5 paths, 2 states) where states is s and portfolio_growth\r\n",
    "            states = np.array(\r\n",
    "                [self.s[:, self.t], self.portfolio_growth[:]], dtype=\"float32\"\r\n",
    "            ).T\r\n",
    "\r\n",
    "            dones = np.repeat(False, self.n_paths)\r\n",
    "\r\n",
    "            final_wealth=0.0\r\n",
    "        \r\n",
    "            logger.info(\r\n",
    "                \"Next state reached. Successfully stepped through environment.\")\r\n",
    "            self.t += 1\r\n",
    "\r\n",
    "        # The else statement functions as the reset of the environment\r\n",
    "        else:\r\n",
    "            final_wealth = self.new_wealth\r\n",
    "            logging.info(f\"Environment has reached last step. ({self.t})\")\r\n",
    "            states = self.reset()\r\n",
    "            rewards = self.reward()\r\n",
    "            dones = np.repeat(True, self.n_paths)\r\n",
    "\r\n",
    "        # Save as attributes for rendering later on\r\n",
    "        # self.rewards = rewards.copy()\r\n",
    "        # self.states = states.copy()\r\n",
    "        # self.actions = actions.copy()\r\n",
    "\r\n",
    "        return (states, rewards, dones, final_wealth)\r\n",
    "\r\n",
    "    def reset(self):\r\n",
    "        # Set time step to 0\r\n",
    "        self.t = 0\r\n",
    "        logger.info(\r\n",
    "            f\"\"\"Initial time is t: {self.t}, Number of humans lives or Monte-Carlo-Simulation paths is set to {self.n_paths}.\"\"\"\r\n",
    "        )\r\n",
    "        # Calculate returns of bonds and stocks\r\n",
    "        self.s, self.b = self.stocks_bonds_growth()\r\n",
    "        # Portfolio growth in the first period is 1 (starting wealth)\r\n",
    "        self.portfolio_growth = np.ones(self.n_paths)\r\n",
    "        # Initialize a wealth array. This currently only includes a\r\n",
    "        # fixed wealth wealth_0\r\n",
    "        self.new_wealth = self.wealth_0 * np.ones(self.n_paths)\r\n",
    "        self.wealth = self.new_wealth\r\n",
    "\r\n",
    "        # The state should correspond to the stock growth rate in the respective\r\n",
    "        # time step and the wealth growth rate\r\n",
    "        states = np.array(\r\n",
    "            [self.s[:, self.t], self.portfolio_growth[:]], dtype=\"float32\"\r\n",
    "        ).T\r\n",
    "        # Save as attributes for rendering later on\r\n",
    "        self.states = states.copy()\r\n",
    "\r\n",
    "        self.t += 1\r\n",
    "\r\n",
    "        return states\r\n",
    "\r\n",
    "    def reward(self):\r\n",
    "        d_wealth = self.new_wealth - self.wealth\r\n",
    "        # * ----- wealth calculated in relative terms:\r\n",
    "        # d_relative_wealth = portfolio_growth - 1\r\n",
    "        # this for needs to change state space\r\n",
    "        self.wealth = self.new_wealth\r\n",
    "\r\n",
    "        rewards = d_wealth - (self.kappa / 2) * (d_wealth ** 2)\r\n",
    "        return rewards.squeeze()\r\n",
    "\r\n",
    "    def stocks_bonds_growth(self):\r\n",
    "        # Create a matrix of random variables for calculation of the\r\n",
    "        # stock prices via Black Scholes model\r\n",
    "        # shape: (trajectories, discretisations)\r\n",
    "        z = self.rng.standard_normal((self.n_paths, self.n_discr))\r\n",
    "\r\n",
    "        # Calculate the returns. Working with returns makes it easier\r\n",
    "        # to vectorize the calculations\r\n",
    "        # s: stock growths\r\n",
    "        # b: bonds growths\r\n",
    "        s = np.exp(\r\n",
    "            (self.mu - 0.5 * self.sigma ** 2) * self.dt\r\n",
    "            + self.sigma * np.sqrt(self.dt) * z\r\n",
    "        )\r\n",
    "\r\n",
    "        b = np.ones((self.n_paths, self.n_discr)) * np.exp(self.rf * self.dt)\r\n",
    "        compound_s = np.cumprod(s)\r\n",
    "        compound_b = np.cumprod(b)\r\n",
    "        return s, b\r\n",
    "\r\n",
    "    def merton_ratio(self):\r\n",
    "        merton_ratio = (self.mu - self.rf) / self.sigma ** 2\r\n",
    "        return merton_ratio\r\n"
   ],
   "outputs": [],
   "metadata": {}
  },
  {
   "cell_type": "code",
   "execution_count": 3,
   "source": [
    "class ReplayBuffer(object):\r\n",
    "    def __init__(self, capacity):\r\n",
    "        self.buffer = deque(maxlen=capacity)\r\n",
    "    \r\n",
    "    def push(self, state, action, reward, next_state, done):\r\n",
    "        state      = np.expand_dims(state, 0)\r\n",
    "        next_state = np.expand_dims(next_state, 0)\r\n",
    "            \r\n",
    "        self.buffer.append((state, action, reward, next_state, done))\r\n",
    "    \r\n",
    "    def sample(self, batch_size):\r\n",
    "        state, action, reward, next_state, done = zip(*random.sample(self.buffer, batch_size))\r\n",
    "        return np.concatenate(state), action, reward, np.concatenate(next_state), done\r\n",
    "    \r\n",
    "    def __len__(self):\r\n",
    "        return len(self.buffer)"
   ],
   "outputs": [],
   "metadata": {
    "collapsed": true
   }
  },
  {
   "cell_type": "code",
   "execution_count": 4,
   "source": [
    "epsilon_start = 1.0\r\n",
    "epsilon_final = 0.01\r\n",
    "epsilon_decay = 500\r\n",
    "\r\n",
    "epsilon_by_frame = lambda frame_idx: epsilon_final + (epsilon_start - epsilon_final) * math.exp(-1. \r\n",
    "                                                                * frame_idx / epsilon_decay)"
   ],
   "outputs": [],
   "metadata": {
    "collapsed": true
   }
  },
  {
   "cell_type": "code",
   "execution_count": 5,
   "source": [
    "kappa = 0.008\r\n",
    "episodes = 3000000\r\n",
    "time_periods = 20\r\n",
    "mu =0.10\r\n",
    "rf = 0.02\r\n",
    "sigma = 0.20\r\n",
    "\r\n",
    "# Relative merton environment\r\n",
    "wealth_0 = 100\r\n",
    "T_merton = 1\r\n",
    "stock_price = 1\r\n",
    "bond_price = 1"
   ],
   "outputs": [],
   "metadata": {
    "collapsed": true
   }
  },
  {
   "cell_type": "code",
   "execution_count": 6,
   "source": [
    "episodes = episodes #500k worked well? as did 1m\r\n",
    "\r\n",
    "utes = 15\r\n",
    "u_star = np.linspace(0,5, utes)\r\n",
    "\r\n",
    "merton_env = MertonEnvironment(\r\n",
    "                                wealth_0, \r\n",
    "                                rf, \r\n",
    "                                mu, \r\n",
    "                                sigma, \r\n",
    "                                kappa, \r\n",
    "                                stock_price=stock_price,\r\n",
    "                                bond_price=bond_price, \r\n",
    "                                n_paths=1, \r\n",
    "                                T=T_merton, \r\n",
    "                                n_discr=time_periods,\r\n",
    "                                seed=0, \r\n",
    "                                render=False,\r\n",
    "                                )"
   ],
   "outputs": [],
   "metadata": {}
  },
  {
   "cell_type": "code",
   "execution_count": 7,
   "source": [
    "# overwrite environment\r\n",
    "env = merton_env\r\n",
    "\r\n",
    "for _ in range(1):\r\n",
    "    for i in range(time_periods):\r\n",
    "        # actions = 2.0\r\n",
    "        if i == 0:\r\n",
    "            states = env.reset()\r\n",
    "        else:\r\n",
    "            states, rewards, dones, info = env.step(actions)\r\n",
    "            # print(f\"{rewards=}\")\r\n",
    "\r\n",
    "        # print(states[1])\r\n",
    "        actions = np.random.uniform(low=0, high=1, size=(1,))\r\n",
    "        \r\n",
    "# print(env.action_space.n)"
   ],
   "outputs": [
    {
     "output_type": "error",
     "ename": "IndexError",
     "evalue": "arrays used as indices must be of integer (or boolean) type",
     "traceback": [
      "\u001b[1;31m---------------------------------------------------------------------------\u001b[0m",
      "\u001b[1;31mIndexError\u001b[0m                                Traceback (most recent call last)",
      "\u001b[1;32m<ipython-input-7-8a4ad41e836f>\u001b[0m in \u001b[0;36m<module>\u001b[1;34m\u001b[0m\n\u001b[0;32m      8\u001b[0m             \u001b[0mstates\u001b[0m \u001b[1;33m=\u001b[0m \u001b[0menv\u001b[0m\u001b[1;33m.\u001b[0m\u001b[0mreset\u001b[0m\u001b[1;33m(\u001b[0m\u001b[1;33m)\u001b[0m\u001b[1;33m\u001b[0m\u001b[1;33m\u001b[0m\u001b[0m\n\u001b[0;32m      9\u001b[0m         \u001b[1;32melse\u001b[0m\u001b[1;33m:\u001b[0m\u001b[1;33m\u001b[0m\u001b[1;33m\u001b[0m\u001b[0m\n\u001b[1;32m---> 10\u001b[1;33m             \u001b[0mstates\u001b[0m\u001b[1;33m,\u001b[0m \u001b[0mrewards\u001b[0m\u001b[1;33m,\u001b[0m \u001b[0mdones\u001b[0m\u001b[1;33m,\u001b[0m \u001b[0minfo\u001b[0m \u001b[1;33m=\u001b[0m \u001b[0menv\u001b[0m\u001b[1;33m.\u001b[0m\u001b[0mstep\u001b[0m\u001b[1;33m(\u001b[0m\u001b[0mactions\u001b[0m\u001b[1;33m)\u001b[0m\u001b[1;33m\u001b[0m\u001b[1;33m\u001b[0m\u001b[0m\n\u001b[0m\u001b[0;32m     11\u001b[0m             \u001b[1;31m# print(f\"{rewards=}\")\u001b[0m\u001b[1;33m\u001b[0m\u001b[1;33m\u001b[0m\u001b[1;33m\u001b[0m\u001b[0m\n\u001b[0;32m     12\u001b[0m \u001b[1;33m\u001b[0m\u001b[0m\n",
      "\u001b[1;32m<ipython-input-2-1b9064164c14>\u001b[0m in \u001b[0;36mstep\u001b[1;34m(self, actions)\u001b[0m\n\u001b[0;32m    106\u001b[0m \u001b[1;33m\u001b[0m\u001b[0m\n\u001b[0;32m    107\u001b[0m         \u001b[1;31m# print(actions)\u001b[0m\u001b[1;33m\u001b[0m\u001b[1;33m\u001b[0m\u001b[1;33m\u001b[0m\u001b[0m\n\u001b[1;32m--> 108\u001b[1;33m         \u001b[0mweight\u001b[0m \u001b[1;33m=\u001b[0m \u001b[0mself\u001b[0m\u001b[1;33m.\u001b[0m\u001b[0minv_range\u001b[0m\u001b[1;33m[\u001b[0m\u001b[0mactions\u001b[0m\u001b[1;33m]\u001b[0m\u001b[1;33m\u001b[0m\u001b[1;33m\u001b[0m\u001b[0m\n\u001b[0m\u001b[0;32m    109\u001b[0m         \u001b[1;31m# print(weight)\u001b[0m\u001b[1;33m\u001b[0m\u001b[1;33m\u001b[0m\u001b[1;33m\u001b[0m\u001b[0m\n\u001b[0;32m    110\u001b[0m \u001b[1;33m\u001b[0m\u001b[0m\n",
      "\u001b[1;31mIndexError\u001b[0m: arrays used as indices must be of integer (or boolean) type"
     ]
    }
   ],
   "metadata": {
    "collapsed": true
   }
  },
  {
   "cell_type": "code",
   "execution_count": 8,
   "source": [
    "class DQN(nn.Module):\r\n",
    "    def __init__(self, num_inputs, num_actions):\r\n",
    "        super(DQN, self).__init__()\r\n",
    "        \r\n",
    "        self.layers = nn.Sequential(\r\n",
    "            nn.Linear(env.observation_space.shape[0], 128),\r\n",
    "            nn.ReLU(),\r\n",
    "            nn.Linear(128, 128),\r\n",
    "            nn.ReLU(),\r\n",
    "            nn.Linear(128, env.action_space.n)\r\n",
    "        )\r\n",
    "        \r\n",
    "    def forward(self, x):\r\n",
    "        return self.layers(x)\r\n",
    "    \r\n",
    "    def act(self, state, epsilon):\r\n",
    "        if random.random() > epsilon:\r\n",
    "            state   = Variable(torch.FloatTensor(state).unsqueeze(0), volatile=True)\r\n",
    "            q_value = self.forward(state)\r\n",
    "            action  = q_value.max(1)[1].data[0].item()\r\n",
    "            #print(action)\r\n",
    "            #print('nromal')\r\n",
    "        else:\r\n",
    "            action = random.randrange(env.action_space.n)\r\n",
    "            #print('rand')\r\n",
    "        return action"
   ],
   "outputs": [],
   "metadata": {
    "collapsed": true
   }
  },
  {
   "cell_type": "code",
   "execution_count": 9,
   "source": [
    "current_model = DQN(env.observation_space.shape[0], env.action_space.n)\r\n",
    "target_model  = DQN(env.observation_space.shape[0], env.action_space.n)\r\n",
    "\r\n",
    "if USE_CUDA:\r\n",
    "    current_model = current_model.cuda()\r\n",
    "    target_model  = target_model.cuda()\r\n",
    "    \r\n",
    "optimizer = optim.Adam(current_model.parameters())\r\n",
    "\r\n",
    "replay_buffer = ReplayBuffer(1000)"
   ],
   "outputs": [],
   "metadata": {
    "collapsed": true
   }
  },
  {
   "cell_type": "code",
   "execution_count": 10,
   "source": [
    "def update_target(current_model, target_model):\r\n",
    "    target_model.load_state_dict(current_model.state_dict())"
   ],
   "outputs": [],
   "metadata": {
    "collapsed": true
   }
  },
  {
   "cell_type": "code",
   "execution_count": 11,
   "source": [
    "update_target(current_model, target_model)"
   ],
   "outputs": [],
   "metadata": {
    "collapsed": true
   }
  },
  {
   "cell_type": "code",
   "execution_count": 12,
   "source": [
    "def compute_td_loss(batch_size):\r\n",
    "    state, action, reward, next_state, done = replay_buffer.sample(batch_size)\r\n",
    "\r\n",
    "    state      = Variable(torch.FloatTensor(np.float32(state)))\r\n",
    "    next_state = Variable(torch.FloatTensor(np.float32(next_state)))\r\n",
    "    action     = Variable(torch.LongTensor(action))\r\n",
    "    reward     = Variable(torch.FloatTensor(reward))\r\n",
    "    done       = Variable(torch.FloatTensor(done))\r\n",
    "\r\n",
    "    q_values      = current_model(state)\r\n",
    "    next_q_values = current_model(next_state)\r\n",
    "    next_q_state_values = target_model(next_state) \r\n",
    "\r\n",
    "    q_value       = q_values.gather(1, action.unsqueeze(1)).squeeze(1) \r\n",
    "    next_q_value = next_q_state_values.gather(1, torch.max(next_q_values, 1)[1].unsqueeze(1)).squeeze(1)\r\n",
    "    expected_q_value = reward + gamma * next_q_value * (1 - done)\r\n",
    "    \r\n",
    "    loss = (q_value - Variable(expected_q_value.data)).pow(2).mean()\r\n",
    "        \r\n",
    "    optimizer.zero_grad()\r\n",
    "    loss.backward()\r\n",
    "    optimizer.step()\r\n",
    "    \r\n",
    "    return loss"
   ],
   "outputs": [],
   "metadata": {
    "collapsed": true
   }
  },
  {
   "cell_type": "code",
   "execution_count": 13,
   "source": [
    "def plot(frame_idx, rewards, losses):\r\n",
    "    clear_output(True)\r\n",
    "    plt.figure(figsize=(20,5))\r\n",
    "    plt.subplot(131)\r\n",
    "    plt.title('frame %s. reward: %s' % (frame_idx, np.mean(rewards[-10:])))\r\n",
    "    plt.plot(rewards)\r\n",
    "    plt.subplot(132)\r\n",
    "    plt.title('loss')\r\n",
    "    plt.plot(losses)\r\n",
    "    plt.show()"
   ],
   "outputs": [],
   "metadata": {
    "collapsed": true
   }
  },
  {
   "cell_type": "code",
   "execution_count": 14,
   "source": [
    "num_frames = 500000\r\n",
    "batch_size = 32\r\n",
    "gamma      = 0.99\r\n",
    "\r\n",
    "losses = []\r\n",
    "all_rewards = []\r\n",
    "episode_reward = 0\r\n",
    "\r\n",
    "state = env.reset()\r\n",
    "\r\n",
    "for frame_idx in range(1, num_frames + 1):\r\n",
    "    epsilon = epsilon_by_frame(frame_idx)\r\n",
    "    \r\n",
    "    action = current_model.act(state, epsilon) #norm\r\n",
    "    #print(action)\r\n",
    "    \r\n",
    "    next_state, reward, done, _ = env.step(action)\r\n",
    "    replay_buffer.push(state, action, reward, next_state, done)\r\n",
    "    \r\n",
    "    state = next_state\r\n",
    "    episode_reward += reward\r\n",
    "    \r\n",
    "    if done:\r\n",
    "        state = env.reset()\r\n",
    "        all_rewards.append(episode_reward)\r\n",
    "        episode_reward = 0\r\n",
    "        \r\n",
    "    if len(replay_buffer) > batch_size:\r\n",
    "        #print('here')\r\n",
    "        loss = compute_td_loss(batch_size)\r\n",
    "        losses.append(loss.data[0])\r\n",
    "        \r\n",
    "    if frame_idx % 400 == 0:\r\n",
    "        plot(frame_idx, all_rewards\r\n",
    "                         ,np.convolve(losses,np.ones((1000,))/1000,mode='valid'))\r\n",
    "\r\n",
    "    if frame_idx % 100 == 0:\r\n",
    "        update_target(current_model, target_model)\r\n"
   ],
   "outputs": [
    {
     "output_type": "error",
     "ename": "TypeError",
     "evalue": "len() of unsized object",
     "traceback": [
      "\u001b[1;31m---------------------------------------------------------------------------\u001b[0m",
      "\u001b[1;31mTypeError\u001b[0m                                 Traceback (most recent call last)",
      "\u001b[1;32m<ipython-input-14-143157600ca9>\u001b[0m in \u001b[0;36m<module>\u001b[1;34m\u001b[0m\n\u001b[0;32m     28\u001b[0m     \u001b[1;32mif\u001b[0m \u001b[0mlen\u001b[0m\u001b[1;33m(\u001b[0m\u001b[0mreplay_buffer\u001b[0m\u001b[1;33m)\u001b[0m \u001b[1;33m>\u001b[0m \u001b[0mbatch_size\u001b[0m\u001b[1;33m:\u001b[0m\u001b[1;33m\u001b[0m\u001b[1;33m\u001b[0m\u001b[0m\n\u001b[0;32m     29\u001b[0m         \u001b[1;31m#print('here')\u001b[0m\u001b[1;33m\u001b[0m\u001b[1;33m\u001b[0m\u001b[1;33m\u001b[0m\u001b[0m\n\u001b[1;32m---> 30\u001b[1;33m         \u001b[0mloss\u001b[0m \u001b[1;33m=\u001b[0m \u001b[0mcompute_td_loss\u001b[0m\u001b[1;33m(\u001b[0m\u001b[0mbatch_size\u001b[0m\u001b[1;33m)\u001b[0m\u001b[1;33m\u001b[0m\u001b[1;33m\u001b[0m\u001b[0m\n\u001b[0m\u001b[0;32m     31\u001b[0m         \u001b[0mlosses\u001b[0m\u001b[1;33m.\u001b[0m\u001b[0mappend\u001b[0m\u001b[1;33m(\u001b[0m\u001b[0mloss\u001b[0m\u001b[1;33m.\u001b[0m\u001b[0mdata\u001b[0m\u001b[1;33m[\u001b[0m\u001b[1;36m0\u001b[0m\u001b[1;33m]\u001b[0m\u001b[1;33m)\u001b[0m\u001b[1;33m\u001b[0m\u001b[1;33m\u001b[0m\u001b[0m\n\u001b[0;32m     32\u001b[0m \u001b[1;33m\u001b[0m\u001b[0m\n",
      "\u001b[1;32m<ipython-input-12-b00b24b217b0>\u001b[0m in \u001b[0;36mcompute_td_loss\u001b[1;34m(batch_size)\u001b[0m\n\u001b[0;32m      5\u001b[0m     \u001b[0mnext_state\u001b[0m \u001b[1;33m=\u001b[0m \u001b[0mVariable\u001b[0m\u001b[1;33m(\u001b[0m\u001b[0mtorch\u001b[0m\u001b[1;33m.\u001b[0m\u001b[0mFloatTensor\u001b[0m\u001b[1;33m(\u001b[0m\u001b[0mnp\u001b[0m\u001b[1;33m.\u001b[0m\u001b[0mfloat32\u001b[0m\u001b[1;33m(\u001b[0m\u001b[0mnext_state\u001b[0m\u001b[1;33m)\u001b[0m\u001b[1;33m)\u001b[0m\u001b[1;33m)\u001b[0m\u001b[1;33m\u001b[0m\u001b[1;33m\u001b[0m\u001b[0m\n\u001b[0;32m      6\u001b[0m     \u001b[0maction\u001b[0m     \u001b[1;33m=\u001b[0m \u001b[0mVariable\u001b[0m\u001b[1;33m(\u001b[0m\u001b[0mtorch\u001b[0m\u001b[1;33m.\u001b[0m\u001b[0mLongTensor\u001b[0m\u001b[1;33m(\u001b[0m\u001b[0maction\u001b[0m\u001b[1;33m)\u001b[0m\u001b[1;33m)\u001b[0m\u001b[1;33m\u001b[0m\u001b[1;33m\u001b[0m\u001b[0m\n\u001b[1;32m----> 7\u001b[1;33m     \u001b[0mreward\u001b[0m     \u001b[1;33m=\u001b[0m \u001b[0mVariable\u001b[0m\u001b[1;33m(\u001b[0m\u001b[0mtorch\u001b[0m\u001b[1;33m.\u001b[0m\u001b[0mFloatTensor\u001b[0m\u001b[1;33m(\u001b[0m\u001b[0mreward\u001b[0m\u001b[1;33m)\u001b[0m\u001b[1;33m)\u001b[0m\u001b[1;33m\u001b[0m\u001b[1;33m\u001b[0m\u001b[0m\n\u001b[0m\u001b[0;32m      8\u001b[0m     \u001b[0mdone\u001b[0m       \u001b[1;33m=\u001b[0m \u001b[0mVariable\u001b[0m\u001b[1;33m(\u001b[0m\u001b[0mtorch\u001b[0m\u001b[1;33m.\u001b[0m\u001b[0mFloatTensor\u001b[0m\u001b[1;33m(\u001b[0m\u001b[0mdone\u001b[0m\u001b[1;33m)\u001b[0m\u001b[1;33m)\u001b[0m\u001b[1;33m\u001b[0m\u001b[1;33m\u001b[0m\u001b[0m\n\u001b[0;32m      9\u001b[0m \u001b[1;33m\u001b[0m\u001b[0m\n",
      "\u001b[1;31mTypeError\u001b[0m: len() of unsized object"
     ]
    }
   ],
   "metadata": {}
  },
  {
   "cell_type": "code",
   "execution_count": 15,
   "source": [
    "episodes = 100001\r\n",
    "# episodes = 2\r\n",
    "wealth = 100.0\r\n",
    "utilities_mod = []\r\n",
    "rewards_mod = []\r\n",
    "step_rewards = []\r\n",
    "rsum = 0\r\n",
    "wealth_episodes = []\r\n",
    "number_of_actions = utes\r\n",
    "\r\n",
    "#! This does not make sense. Further down below we change it to use env\r\n",
    "# Mark1 = Market(kappa, episodes, time_periods, mu, rf, sigma, u_star)\r\n",
    "\r\n",
    "\r\n",
    "for i_episode in range(episodes-1):\r\n",
    "\r\n",
    "    if i_episode%10000 ==0:\r\n",
    "        print(i_episode)\r\n",
    "        \r\n",
    "    # state = Mark1.reset() \r\n",
    "    state = env.reset() \r\n",
    "    action = current_model(Variable(torch.FloatTensor(np.float32(state)))).argmax().item()\r\n",
    "\r\n",
    "    while True:    \r\n",
    "        # new_state , reward, done, final_wealth = Mark.step(action) #(prop, wealth))\r\n",
    "        new_state , reward, done, final_wealth = env.step(action) #(prop, wealth))\r\n",
    "        # print(f\"{new_state}\")\r\n",
    "        # print(f\"{new_state[:,1]}\")\r\n",
    "        # print(f\"{final_wealth=}\")\r\n",
    "        action = current_model(Variable(torch.FloatTensor(np.float32(new_state)))).argmax().item()\r\n",
    "        rsum += reward\r\n",
    "        state = new_state\r\n",
    "\r\n",
    "        #print(new_state)\r\n",
    "        #print(model(Variable(torch.FloatTensor(np.float32(new_state)))))\r\n",
    "        step_rewards.append(reward)\r\n",
    "\r\n",
    "        if done:\r\n",
    "            wealth_episodes.append(final_wealth)\r\n",
    "            utilities_mod.append(np.log(final_wealth))\r\n",
    "            rewards_mod.append(rsum)\r\n",
    "            rsum = 0\r\n",
    "            #wealth = 100.0\r\n",
    "            # print(i_episode)\r\n",
    "            # print(f\"{final_wealth=}\")\r\n",
    "            break \r\n"
   ],
   "outputs": [
    {
     "output_type": "stream",
     "name": "stdout",
     "text": [
      "0\n",
      "10000\n",
      "20000\n",
      "30000\n",
      "40000\n",
      "50000\n",
      "60000\n",
      "70000\n",
      "80000\n",
      "90000\n"
     ]
    }
   ],
   "metadata": {}
  },
  {
   "cell_type": "code",
   "execution_count": 16,
   "source": [
    "utilities_test = utilities_mod\r\n",
    "rewards_test = rewards_mod\r\n",
    "step_rew_test = step_rewards\r\n",
    "wealth_test = wealth_episodes"
   ],
   "outputs": [],
   "metadata": {
    "collapsed": true
   }
  },
  {
   "cell_type": "code",
   "execution_count": 18,
   "source": [
    "import sys\r\n",
    "sys.path.insert(0,r'C:\\Users\\akkon\\Documents\\programming\\ai_wiwi\\othermodel')\r\n",
    "sys.path.insert(0,r'C:\\Users\\akkon\\Documents\\programming\\ai_wiwi\\other_model\\ddqn_relative\\lib')\r\n",
    "sys.path.insert(0,r'C:\\Users\\akkon\\Documents\\programming\\ai_wiwi\\other_model\\ddqn_relative\\lib\\envs')\r\n",
    "\r\n",
    "from lib.execute_strat import execute_strat\r\n",
    "from lib.sim_prices import make_prices\r\n",
    "from lib.graphs import make_baseline_graphs, make_agent_graphs, plot_sample_paths, plot_disc_utility, \\\r\n",
    "                        plot_mv_equiv, plot_const_step"
   ],
   "outputs": [],
   "metadata": {
    "collapsed": true
   }
  },
  {
   "cell_type": "code",
   "execution_count": 25,
   "source": [
    "#episodes = 99##3000000\r\n",
    "#Q, utilities_mod, rewards_mod, wealth_episodes = train_agent(kappa, episodes)\r\n",
    "\r\n",
    "def make_agent_graphs_new(rewards_test_best, rewards_test_rand, rewards_test,\r\n",
    "                      utilities_test_best, utilities_test_rand, utilities_test,\r\n",
    "                     wealth_test_rand, wealth_test_best, wealth_test):\r\n",
    "\r\n",
    "    block_utilities_test = np.mean(np.array(utilities_test).reshape(1000,-1),0)\r\n",
    "    block_utilities_test_rand = np.mean(np.array(utilities_test_rand).reshape(1000,-1),0)\r\n",
    "    block_utilities_test_best = np.mean(np.array(utilities_test_best).reshape(1000,-1),0)\r\n",
    "\r\n",
    "\r\n",
    "    block_wealth_test_rand = np.mean(np.array(wealth_test_rand).reshape(1000,-1),0)\r\n",
    "    block_wealth_test_best = np.mean(np.array(wealth_test_best).reshape(1000,-1),0)\r\n",
    "    block_wealth_test = np.mean(np.array(wealth_test).reshape(1000,-1),0)\r\n",
    "\r\n",
    "\r\n",
    "    block_rewards_test = np.mean(np.array(rewards_test).reshape(1000,-1),0)\r\n",
    "    block_rewards_test_rand = np.mean(np.array(rewards_test_rand).reshape(1000,-1),0)\r\n",
    "    block_rewards_test_best = np.mean(np.array(rewards_test_best).reshape(1000,-1),0)\r\n",
    "\r\n",
    "    #Calculate sharpe ratios instead of longitudinally do it at the end blocks of 1000 again\r\n",
    "\r\n",
    "    #mu - rf/ sigma\r\n",
    "    wr = np.array(wealth_test_rand).reshape(100,-1)\r\n",
    "    wr_sharpe = (wr.mean(axis=0)/100-1)/(wr.std(axis=0)/100)\r\n",
    "\r\n",
    "    wt = np.array(wealth_test).reshape(100,-1)\r\n",
    "    wt_sharpe = (wt.mean(axis=0)/100-1)/(wt.std(axis=0)/100)\r\n",
    "\r\n",
    "    wb = np.array(wealth_test_best).reshape(100,-1)\r\n",
    "    wb_sharpe = (wb.mean(axis=0)/100-1)/(wb.std(axis=0)/100)\r\n",
    "\r\n",
    "\r\n",
    "    sns.distplot(block_rewards_test_best, label=\"Merton optimal\")\r\n",
    "    sns.distplot(block_rewards_test, label=\"Trained Agent\")\r\n",
    "    sns.distplot(block_rewards_test_rand, label=\"Random agent\")\r\n",
    "    plt.title('Distribution of Final rewards Merton v Trained Agent v Random (per 1000 episodes)')\r\n",
    "    plt.xlabel('Episode Rewards')\r\n",
    "    plt.ylabel('Frequency')\r\n",
    "    plt.legend()\r\n",
    "    plt.show()\r\n",
    "\r\n",
    "    plt.violinplot([block_rewards_test_rand, block_rewards_test, block_rewards_test_best])\r\n",
    "    plt.xticks([1,2,3], [\"Random Agent\", \"Trained Agent\", \"Merton Optimal\"], rotation=60, size=12)\r\n",
    "    plt.ylabel(\"Test Rewards\", size=12)\r\n",
    "    plt.xlabel(\"Agent\", size=12)\r\n",
    "    ax = plt.gca()\r\n",
    "    # ax.set_axis_bgcolor('white')\r\n",
    "    ax.grid(0)\r\n",
    "    plt.title(\"Violin plot of Rewards - Random v Merton v Agent\")\r\n",
    "    plt.show()\r\n",
    "\r\n",
    "\r\n",
    "    sns.distplot(block_utilities_test_best, label=\"Merton optimal\")\r\n",
    "    sns.distplot(block_utilities_test, label=\"Trained Agent\")\r\n",
    "    sns.distplot(block_utilities_test_rand, label=\"Random agent\")\r\n",
    "    plt.title('Distribution of Final Utilities Merton v Trained Agent v Random (per 1000 episodes)')\r\n",
    "    plt.xlabel('Episode Utilities')\r\n",
    "    plt.ylabel('Frequency')\r\n",
    "    plt.legend()\r\n",
    "    plt.show()\r\n",
    "\r\n",
    "    plt.violinplot([block_utilities_test_rand, block_utilities_test, block_utilities_test_best])\r\n",
    "    plt.xticks([1,2,3], [\"Random Agent\", \"Trained Agent\", \"Merton Optimal\"], rotation=60, size=12)\r\n",
    "    plt.ylabel(\"Test Utility\", size=12)\r\n",
    "    plt.xlabel(\"Agent\", size=12)\r\n",
    "    ax = plt.gca()\r\n",
    "    # ax.set_axis_bgcolor('white')\r\n",
    "    ax.grid(0)\r\n",
    "    plt.title(\"Violin plot of utilities - Random v Merton v Agent\")\r\n",
    "    plt.show()\r\n",
    "\r\n",
    "    plt.plot(np.convolve(utilities_test_best, np.ones((10000,))/10000, mode='valid'), label='Merton Optimal')\r\n",
    "    plt.plot(np.convolve(utilities_test_rand, np.ones((10000,))/10000, mode='valid'), label='Random agent')\r\n",
    "    plt.plot(np.convolve(utilities_test, np.ones((10000,))/10000, mode='valid'), label='Trained agent')\r\n",
    "    plt.title('Moving average 10,000 episode utilities')\r\n",
    "    plt.ylabel('Utility')\r\n",
    "    plt.xlabel('Episode')\r\n",
    "    plt.legend()\r\n",
    "    plt.show()\r\n",
    "\r\n",
    "    plt.violinplot([block_wealth_test_rand, block_wealth_test, block_wealth_test_best])\r\n",
    "    plt.xticks([1,2,3], [\"Random Agent\", \"Trained Agent\", \"Merton Optimal\"], rotation=60, size=12)\r\n",
    "    plt.ylabel(\"Test Wealth\", size=12)\r\n",
    "    plt.xlabel(\"Agent\", size=12)\r\n",
    "    ax = plt.gca()\r\n",
    "    # ax.set_axis_bgcolor('white')\r\n",
    "    ax.grid(0)\r\n",
    "    plt.title(\"Violin plot of Wealth - Random v Merton v Agent\")\r\n",
    "    plt.show()\r\n",
    "\r\n",
    "\r\n",
    "    sns.distplot(block_wealth_test_best, label=\"Merton optimal\")\r\n",
    "    sns.distplot(block_wealth_test, label=\"Trained Agent\")\r\n",
    "    sns.distplot(block_wealth_test_rand, label=\"Random agent\")\r\n",
    "    plt.title('Distribution of Final Wealth Merton v Trained Agent v Random (per 1000 episodes)')\r\n",
    "    plt.xlabel('Episode Wealth')\r\n",
    "    plt.ylabel('Frequency')\r\n",
    "    plt.legend()\r\n",
    "    plt.show()\r\n",
    "\r\n",
    "    plt.violinplot([wr_sharpe, wt_sharpe, wb_sharpe])\r\n",
    "    plt.xticks([1,2,3], [\"Random Agent\", \"Trained Agent\", \"Merton Optimal\"], rotation=60, size=12)\r\n",
    "    plt.ylabel(\"Test Sharpe\", size=12)\r\n",
    "    plt.xlabel(\"Agent\", size=12)\r\n",
    "    ax = plt.gca()\r\n",
    "    # ax.set_axis_bgcolor('white')\r\n",
    "    ax.grid(0)\r\n",
    "    plt.title(\"Violin plot of Sharpe ratios (M period) - Random v Merton v Agent\")\r\n",
    "    plt.show()\r\n",
    "\r\n",
    "    sns.distplot(wb_sharpe, label=\"Merton optimal\")\r\n",
    "    sns.distplot(wt_sharpe, label=\"Trained Agent\")\r\n",
    "    sns.distplot(wr_sharpe, label=\"Random agent\")\r\n",
    "    plt.title('Distribution of Final Sharpe ratios  Merton v Trained Agent v Random (per 1000 episodes)')\r\n",
    "    plt.xlabel('Episode Sharpe')\r\n",
    "    plt.ylabel('Frequency')\r\n",
    "    plt.legend()\r\n",
    "    plt.show()\r\n",
    "\r\n",
    "    return block_utilities_test_rand, block_utilities_test, block_utilities_test_best, \\\r\n",
    "           block_rewards_test_rand, block_rewards_test, block_rewards_test_best, \\\r\n",
    "           block_wealth_test_rand, block_wealth_test, block_wealth_test_best, \\\r\n",
    "           wr_sharpe, wt_sharpe, wb_sharpe"
   ],
   "outputs": [],
   "metadata": {
    "collapsed": true
   }
  },
  {
   "cell_type": "code",
   "execution_count": 20,
   "source": [
    "wealth = 100.0\r\n",
    "\r\n",
    "merton_ratio = (mu-rf)/sigma**2\r\n",
    "best_action = np.argmin(np.abs(u_star-merton_ratio))\r\n",
    "#temp change to execute strat\r\n",
    "utilities_test_rand, rewards_test_rand, step_rew_rand, wealth_test_rand = execute_strat(kappa,mu, \r\n",
    "                                                                      rf, sigma, utes,u_star,best_action, 'Random',\r\n",
    "                                                                      episodes=100001,\r\n",
    "                                                                      time_periods=time_periods, wealth=wealth)\r\n",
    "utilities_test_best, rewards_test_best, step_rew_best, wealth_test_best = execute_strat(kappa, mu, rf, sigma, \r\n",
    "                                                                      utes, u_star, best_action,'Merton', \r\n",
    "                                                                      episodes=100001,\r\n",
    "                                                                      time_periods=time_periods, wealth=wealth)"
   ],
   "outputs": [],
   "metadata": {
    "collapsed": true
   }
  },
  {
   "cell_type": "code",
   "execution_count": 26,
   "source": [
    "#utilities_test, rewards_test, step_rew_test, wealth_test = execute_strat(kappa, mu, rf, sigma, utes, u_star,best_action, \r\n",
    "#                                                            'Agent', q_values=Q, \r\n",
    "#                                                            time_periods=time_periods, wealth=wealth)\r\n",
    "\r\n",
    "results = make_agent_graphs_new(rewards_test_best, rewards_test_rand, rewards_test,\r\n",
    "                  utilities_test_best, utilities_test_rand, utilities_test,\r\n",
    "                         wealth_test_rand, wealth_test_best, wealth_test)"
   ],
   "outputs": [
    {
     "output_type": "stream",
     "name": "stderr",
     "text": [
      "C:\\Users\\Sascha\\Anaconda3\\lib\\site-packages\\seaborn\\distributions.py:2557: FutureWarning: `distplot` is a deprecated function and will be removed in a future version. Please adapt your code to use either `displot` (a figure-level function with similar flexibility) or `histplot` (an axes-level function for histograms).\n",
      "  warnings.warn(msg, FutureWarning)\n",
      "C:\\Users\\Sascha\\Anaconda3\\lib\\site-packages\\seaborn\\distributions.py:2557: FutureWarning: `distplot` is a deprecated function and will be removed in a future version. Please adapt your code to use either `displot` (a figure-level function with similar flexibility) or `histplot` (an axes-level function for histograms).\n",
      "  warnings.warn(msg, FutureWarning)\n",
      "C:\\Users\\Sascha\\Anaconda3\\lib\\site-packages\\seaborn\\distributions.py:2557: FutureWarning: `distplot` is a deprecated function and will be removed in a future version. Please adapt your code to use either `displot` (a figure-level function with similar flexibility) or `histplot` (an axes-level function for histograms).\n",
      "  warnings.warn(msg, FutureWarning)\n"
     ]
    },
    {
     "output_type": "display_data",
     "data": {
      "image/png": "[encoded data removed]",
      "text/plain": [
       "<Figure size 432x288 with 1 Axes>"
      ]
     },
     "metadata": {
      "needs_background": "light"
     }
    },
    {
     "output_type": "display_data",
     "data": {
      "image/png": "[encoded data removed]",
      "text/plain": [
       "<Figure size 432x288 with 1 Axes>"
      ]
     },
     "metadata": {
      "needs_background": "light"
     }
    },
    {
     "output_type": "stream",
     "name": "stderr",
     "text": [
      "C:\\Users\\Sascha\\Anaconda3\\lib\\site-packages\\seaborn\\distributions.py:2557: FutureWarning: `distplot` is a deprecated function and will be removed in a future version. Please adapt your code to use either `displot` (a figure-level function with similar flexibility) or `histplot` (an axes-level function for histograms).\n",
      "  warnings.warn(msg, FutureWarning)\n",
      "C:\\Users\\Sascha\\Anaconda3\\lib\\site-packages\\seaborn\\distributions.py:2557: FutureWarning: `distplot` is a deprecated function and will be removed in a future version. Please adapt your code to use either `displot` (a figure-level function with similar flexibility) or `histplot` (an axes-level function for histograms).\n",
      "  warnings.warn(msg, FutureWarning)\n",
      "C:\\Users\\Sascha\\Anaconda3\\lib\\site-packages\\seaborn\\distributions.py:2557: FutureWarning: `distplot` is a deprecated function and will be removed in a future version. Please adapt your code to use either `displot` (a figure-level function with similar flexibility) or `histplot` (an axes-level function for histograms).\n",
      "  warnings.warn(msg, FutureWarning)\n"
     ]
    },
    {
     "output_type": "display_data",
     "data": {
      "image/png": "[encoded data removed]",
      "text/plain": [
       "<Figure size 432x288 with 1 Axes>"
      ]
     },
     "metadata": {
      "needs_background": "light"
     }
    },
    {
     "output_type": "display_data",
     "data": {
      "image/png": "[encoded data removed]",
      "text/plain": [
       "<Figure size 432x288 with 1 Axes>"
      ]
     },
     "metadata": {
      "needs_background": "light"
     }
    },
    {
     "output_type": "error",
     "ename": "ValueError",
     "evalue": "object too deep for desired array",
     "traceback": [
      "\u001b[1;31m---------------------------------------------------------------------------\u001b[0m",
      "\u001b[1;31mValueError\u001b[0m                                Traceback (most recent call last)",
      "\u001b[1;32m<ipython-input-26-51a3ee06b62c>\u001b[0m in \u001b[0;36m<module>\u001b[1;34m\u001b[0m\n\u001b[0;32m      3\u001b[0m \u001b[1;31m#                                                            time_periods=time_periods, wealth=wealth)\u001b[0m\u001b[1;33m\u001b[0m\u001b[1;33m\u001b[0m\u001b[1;33m\u001b[0m\u001b[0m\n\u001b[0;32m      4\u001b[0m \u001b[1;33m\u001b[0m\u001b[0m\n\u001b[1;32m----> 5\u001b[1;33m results = make_agent_graphs_new(rewards_test_best, rewards_test_rand, rewards_test,\n\u001b[0m\u001b[0;32m      6\u001b[0m                   \u001b[0mutilities_test_best\u001b[0m\u001b[1;33m,\u001b[0m \u001b[0mutilities_test_rand\u001b[0m\u001b[1;33m,\u001b[0m \u001b[0mutilities_test\u001b[0m\u001b[1;33m,\u001b[0m\u001b[1;33m\u001b[0m\u001b[1;33m\u001b[0m\u001b[0m\n\u001b[0;32m      7\u001b[0m                          wealth_test_rand, wealth_test_best, wealth_test)\n",
      "\u001b[1;32m<ipython-input-25-7b7feeaed015>\u001b[0m in \u001b[0;36mmake_agent_graphs_new\u001b[1;34m(rewards_test_best, rewards_test_rand, rewards_test, utilities_test_best, utilities_test_rand, utilities_test, wealth_test_rand, wealth_test_best, wealth_test)\u001b[0m\n\u001b[0;32m     74\u001b[0m     \u001b[0mplt\u001b[0m\u001b[1;33m.\u001b[0m\u001b[0mplot\u001b[0m\u001b[1;33m(\u001b[0m\u001b[0mnp\u001b[0m\u001b[1;33m.\u001b[0m\u001b[0mconvolve\u001b[0m\u001b[1;33m(\u001b[0m\u001b[0mutilities_test_best\u001b[0m\u001b[1;33m,\u001b[0m \u001b[0mnp\u001b[0m\u001b[1;33m.\u001b[0m\u001b[0mones\u001b[0m\u001b[1;33m(\u001b[0m\u001b[1;33m(\u001b[0m\u001b[1;36m10000\u001b[0m\u001b[1;33m,\u001b[0m\u001b[1;33m)\u001b[0m\u001b[1;33m)\u001b[0m\u001b[1;33m/\u001b[0m\u001b[1;36m10000\u001b[0m\u001b[1;33m,\u001b[0m \u001b[0mmode\u001b[0m\u001b[1;33m=\u001b[0m\u001b[1;34m'valid'\u001b[0m\u001b[1;33m)\u001b[0m\u001b[1;33m,\u001b[0m \u001b[0mlabel\u001b[0m\u001b[1;33m=\u001b[0m\u001b[1;34m'Merton Optimal'\u001b[0m\u001b[1;33m)\u001b[0m\u001b[1;33m\u001b[0m\u001b[1;33m\u001b[0m\u001b[0m\n\u001b[0;32m     75\u001b[0m     \u001b[0mplt\u001b[0m\u001b[1;33m.\u001b[0m\u001b[0mplot\u001b[0m\u001b[1;33m(\u001b[0m\u001b[0mnp\u001b[0m\u001b[1;33m.\u001b[0m\u001b[0mconvolve\u001b[0m\u001b[1;33m(\u001b[0m\u001b[0mutilities_test_rand\u001b[0m\u001b[1;33m,\u001b[0m \u001b[0mnp\u001b[0m\u001b[1;33m.\u001b[0m\u001b[0mones\u001b[0m\u001b[1;33m(\u001b[0m\u001b[1;33m(\u001b[0m\u001b[1;36m10000\u001b[0m\u001b[1;33m,\u001b[0m\u001b[1;33m)\u001b[0m\u001b[1;33m)\u001b[0m\u001b[1;33m/\u001b[0m\u001b[1;36m10000\u001b[0m\u001b[1;33m,\u001b[0m \u001b[0mmode\u001b[0m\u001b[1;33m=\u001b[0m\u001b[1;34m'valid'\u001b[0m\u001b[1;33m)\u001b[0m\u001b[1;33m,\u001b[0m \u001b[0mlabel\u001b[0m\u001b[1;33m=\u001b[0m\u001b[1;34m'Random agent'\u001b[0m\u001b[1;33m)\u001b[0m\u001b[1;33m\u001b[0m\u001b[1;33m\u001b[0m\u001b[0m\n\u001b[1;32m---> 76\u001b[1;33m     \u001b[0mplt\u001b[0m\u001b[1;33m.\u001b[0m\u001b[0mplot\u001b[0m\u001b[1;33m(\u001b[0m\u001b[0mnp\u001b[0m\u001b[1;33m.\u001b[0m\u001b[0mconvolve\u001b[0m\u001b[1;33m(\u001b[0m\u001b[0mutilities_test\u001b[0m\u001b[1;33m,\u001b[0m \u001b[0mnp\u001b[0m\u001b[1;33m.\u001b[0m\u001b[0mones\u001b[0m\u001b[1;33m(\u001b[0m\u001b[1;33m(\u001b[0m\u001b[1;36m10000\u001b[0m\u001b[1;33m,\u001b[0m\u001b[1;33m)\u001b[0m\u001b[1;33m)\u001b[0m\u001b[1;33m/\u001b[0m\u001b[1;36m10000\u001b[0m\u001b[1;33m,\u001b[0m \u001b[0mmode\u001b[0m\u001b[1;33m=\u001b[0m\u001b[1;34m'valid'\u001b[0m\u001b[1;33m)\u001b[0m\u001b[1;33m,\u001b[0m \u001b[0mlabel\u001b[0m\u001b[1;33m=\u001b[0m\u001b[1;34m'Trained agent'\u001b[0m\u001b[1;33m)\u001b[0m\u001b[1;33m\u001b[0m\u001b[1;33m\u001b[0m\u001b[0m\n\u001b[0m\u001b[0;32m     77\u001b[0m     \u001b[0mplt\u001b[0m\u001b[1;33m.\u001b[0m\u001b[0mtitle\u001b[0m\u001b[1;33m(\u001b[0m\u001b[1;34m'Moving average 10,000 episode utilities'\u001b[0m\u001b[1;33m)\u001b[0m\u001b[1;33m\u001b[0m\u001b[1;33m\u001b[0m\u001b[0m\n\u001b[0;32m     78\u001b[0m     \u001b[0mplt\u001b[0m\u001b[1;33m.\u001b[0m\u001b[0mylabel\u001b[0m\u001b[1;33m(\u001b[0m\u001b[1;34m'Utility'\u001b[0m\u001b[1;33m)\u001b[0m\u001b[1;33m\u001b[0m\u001b[1;33m\u001b[0m\u001b[0m\n",
      "\u001b[1;32m<__array_function__ internals>\u001b[0m in \u001b[0;36mconvolve\u001b[1;34m(*args, **kwargs)\u001b[0m\n",
      "\u001b[1;32m~\\Anaconda3\\lib\\site-packages\\numpy\\core\\numeric.py\u001b[0m in \u001b[0;36mconvolve\u001b[1;34m(a, v, mode)\u001b[0m\n\u001b[0;32m    848\u001b[0m         \u001b[1;32mraise\u001b[0m \u001b[0mValueError\u001b[0m\u001b[1;33m(\u001b[0m\u001b[1;34m'v cannot be empty'\u001b[0m\u001b[1;33m)\u001b[0m\u001b[1;33m\u001b[0m\u001b[1;33m\u001b[0m\u001b[0m\n\u001b[0;32m    849\u001b[0m     \u001b[0mmode\u001b[0m \u001b[1;33m=\u001b[0m \u001b[0m_mode_from_name\u001b[0m\u001b[1;33m(\u001b[0m\u001b[0mmode\u001b[0m\u001b[1;33m)\u001b[0m\u001b[1;33m\u001b[0m\u001b[1;33m\u001b[0m\u001b[0m\n\u001b[1;32m--> 850\u001b[1;33m     \u001b[1;32mreturn\u001b[0m \u001b[0mmultiarray\u001b[0m\u001b[1;33m.\u001b[0m\u001b[0mcorrelate\u001b[0m\u001b[1;33m(\u001b[0m\u001b[0ma\u001b[0m\u001b[1;33m,\u001b[0m \u001b[0mv\u001b[0m\u001b[1;33m[\u001b[0m\u001b[1;33m:\u001b[0m\u001b[1;33m:\u001b[0m\u001b[1;33m-\u001b[0m\u001b[1;36m1\u001b[0m\u001b[1;33m]\u001b[0m\u001b[1;33m,\u001b[0m \u001b[0mmode\u001b[0m\u001b[1;33m)\u001b[0m\u001b[1;33m\u001b[0m\u001b[1;33m\u001b[0m\u001b[0m\n\u001b[0m\u001b[0;32m    851\u001b[0m \u001b[1;33m\u001b[0m\u001b[0m\n\u001b[0;32m    852\u001b[0m \u001b[1;33m\u001b[0m\u001b[0m\n",
      "\u001b[1;31mValueError\u001b[0m: object too deep for desired array"
     ]
    },
    {
     "output_type": "display_data",
     "data": {
      "image/png": "[encoded data removed]",
      "text/plain": [
       "<Figure size 432x288 with 1 Axes>"
      ]
     },
     "metadata": {
      "needs_background": "light"
     }
    }
   ],
   "metadata": {}
  },
  {
   "cell_type": "code",
   "execution_count": null,
   "source": [
    "for r in results:\r\n",
    "    print(np.mean(r))"
   ],
   "outputs": [
    {
     "output_type": "stream",
     "name": "stdout",
     "text": [
      "4.647705717839808\n",
      "4.701881007676416\n",
      "4.700574399289017\n",
      "3.785101694147847\n",
      "10.857694452225248\n",
      "10.680781864955206\n",
      "123.22127414001936\n",
      "120.16502411878824\n",
      "119.97156581621101\n",
      "0.3071353927660123\n",
      "0.39031087515516705\n",
      "0.38656642141334224\n"
     ]
    }
   ],
   "metadata": {}
  },
  {
   "cell_type": "code",
   "execution_count": null,
   "source": [
    "for r in results:\r\n",
    "    print(np.std(r))"
   ],
   "outputs": [
    {
     "output_type": "stream",
     "name": "stdout",
     "text": [
      "0.01960570304115883\n",
      "0.013054563404349621\n",
      "0.013365193028326545\n",
      "2.044535685985809\n",
      "1.522981989512418\n",
      "1.5608712810229721\n",
      "2.4921318368608323\n",
      "1.6696088372423477\n",
      "1.7272311660207156\n",
      "0.07901668508882188\n",
      "0.0795374141722387\n",
      "0.08426202053242544\n"
     ]
    }
   ],
   "metadata": {}
  },
  {
   "cell_type": "code",
   "execution_count": null,
   "source": [],
   "outputs": [],
   "metadata": {
    "collapsed": true
   }
  },
  {
   "cell_type": "code",
   "execution_count": null,
   "source": [],
   "outputs": [],
   "metadata": {
    "collapsed": true
   }
  },
  {
   "cell_type": "code",
   "execution_count": null,
   "source": [],
   "outputs": [],
   "metadata": {
    "collapsed": true
   }
  }
 ],
 "metadata": {
  "kernelspec": {
   "name": "python3",
   "display_name": "Python 3.8.8 64-bit ('Sascha': virtualenv)"
  },
  "language_info": {
   "codemirror_mode": {
    "name": "ipython",
    "version": 3
   },
   "file_extension": ".py",
   "mimetype": "text/x-python",
   "name": "python",
   "nbconvert_exporter": "python",
   "pygments_lexer": "ipython3",
   "version": "3.8.8"
  },
  "interpreter": {
   "hash": "7aedd35e9fe9206e90b01d2e1f367e381bce2ebdd98f41c80aa85e8e35f97d93"
  }
 },
 "nbformat": 4,
 "nbformat_minor": 2
}